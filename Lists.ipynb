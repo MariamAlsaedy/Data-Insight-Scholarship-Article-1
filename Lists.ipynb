{
 "cells": [
  {
   "cell_type": "code",
   "execution_count": 9,
   "metadata": {},
   "outputs": [],
   "source": [
    "#Consider a list (List = []).\n",
    "List = []"
   ]
  },
  {
   "cell_type": "code",
   "execution_count": 10,
   "metadata": {},
   "outputs": [
    {
     "name": "stdout",
     "output_type": "stream",
     "text": [
      "[5, 10]\n",
      "[6, 9]\n",
      "[9, 6]\n"
     ]
    }
   ],
   "source": [
    "'''You can perform the following processes:\n",
    "append - insert - extend - pop - index - sort - reverse - remove - print\n",
    "\n",
    "Note that:\n",
    "\n",
    "-The main idea of the code is to loop as much as the N numer\n",
    "\n",
    "-Then, entre any process you want to to on the previously defined empty list.\n",
    "\n",
    "-the of writing the input is desscused in the following lines.\n",
    "\n",
    "-After the loop is end the last shape of list will be the last saved in the memory \n",
    "and it's the only shape you can select and deal with.\n",
    "'''\n",
    "\n",
    "#N is an initial number that refer to the numer of the processes that will perform on the list.\n",
    "N = int(input())\n",
    "\n",
    "for i in range(N):\n",
    "        inputs = input()\n",
    "\n",
    "        #As we enter the input in one line so that we use split to confirm the input to a list to use it.\n",
    "        process = inputs.split()\n",
    "\n",
    "        # we input any process as its name without prackets \n",
    "        # we write the items it takes in the same line separated by singl spaces without writing any marks. \n",
    "\n",
    "        if process[0] == \"insert\":\n",
    "            indexnum = int(process[1])\n",
    "            num = int(process[2])\n",
    "            List.insert(indexnum, num)\n",
    "            \n",
    "        elif process[0] == \"print\":\n",
    "            print(List)\n",
    "            \n",
    "        elif process[0] == \"remove\":\n",
    "            num = int(process[1])  \n",
    "            List.remove(num)\n",
    "            \n",
    "        elif process[0] == \"append\":\n",
    "            num = int(process[1])\n",
    "            List.append(num)\n",
    "            \n",
    "        elif process[0] == \"sort\":\n",
    "            List.sort()\n",
    "               \n",
    "        elif process[0] == \"pop\":\n",
    "            List.pop()\n",
    "            \n",
    "        elif process[0] == \"reverse\":\n",
    "            List.reverse()\n",
    "\n",
    "        elif process[0] == \"extend\":\n",
    "            Lst = process[1:]\n",
    "            List.extend(Lst)\n",
    "\n",
    "        elif process[0] == \"index\":\n",
    "            searched = int(process[1])\n",
    "            print(List.index(searched))\n",
    "        \n",
    "        else:\n",
    "            print(\"Entre one of these process:\")\n",
    "            print(\"append - insert - extend - pop - index - sort - reverse - remove - print\")"
   ]
  }
 ],
 "metadata": {
  "interpreter": {
   "hash": "ff38a3523cd439723e0dde7bd575b7279b8089a9d900876b61572f79949475f7"
  },
  "kernelspec": {
   "display_name": "Python 3.9.0 64-bit",
   "language": "python",
   "name": "python3"
  },
  "language_info": {
   "codemirror_mode": {
    "name": "ipython",
    "version": 3
   },
   "file_extension": ".py",
   "mimetype": "text/x-python",
   "name": "python",
   "nbconvert_exporter": "python",
   "pygments_lexer": "ipython3",
   "version": "3.9.0"
  },
  "orig_nbformat": 4
 },
 "nbformat": 4,
 "nbformat_minor": 2
}
